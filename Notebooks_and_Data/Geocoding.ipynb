{
 "cells": [
  {
   "cell_type": "code",
   "execution_count": 1,
   "metadata": {},
   "outputs": [],
   "source": [
    "import pandas as pd\n",
    "import numpy as np\n",
    "import os\n",
    "import reverse_geocoder as rg\n",
    "import json\n",
    "from shapely.geometry import shape, Point\n",
    "import shapely.wkt\n",
    "from tqdm import tqdm_notebook as tqdm\n",
    "import glob\n",
    "from shapely import geometry\n",
    "\n",
    "pd.options.mode.chained_assignment = None"
   ]
  },
  {
   "cell_type": "code",
   "execution_count": 2,
   "metadata": {},
   "outputs": [],
   "source": [
    "# Get the paths for every file that will be used in the notebook\n",
    "org_path = os.getcwd()\n",
    "taxi_path = org_path + '\\Taxi_Data\\\\'\n",
    "\n",
    "borough_outlines_path = taxi_path + 'Borough_Information'\n",
    "rough_outlines_path = taxi_path + 'Borough_Information\\Custom_Polygons\\Rough_Outlines'\n",
    "airport_path = taxi_path + 'Borough_Information\\Custom_Polygons\\Airports'\n",
    "manhattan_path = taxi_path + 'Borough_Information\\Custom_Polygons\\Manhattan_Areas'\n",
    "\n",
    "save_path = org_path + '\\\\Notebook_Data\\\\'\n",
    "\n",
    "# Get a list of files located in every folder\n",
    "rough_outlines_files = glob.glob(rough_outlines_path + \"/*.csv\")\n",
    "airport_files = glob.glob(airport_path + \"/*.csv\")\n",
    "manhattan_files = glob.glob(manhattan_path + \"/*.csv\")\n",
    "\n",
    "# Read in the data\n",
    "df = pd.read_csv(taxi_path + 'train.csv', float_precision='round_trip')"
   ]
  },
  {
   "cell_type": "code",
   "execution_count": 3,
   "metadata": {},
   "outputs": [],
   "source": [
    "# Extract pickup and dropoff locations and align in a single dataframe\n",
    "locations_pickup = df[['id', 'pickup_longitude', 'pickup_latitude']].copy()\n",
    "locations_pickup['is_pickup'] = 1\n",
    "\n",
    "locations_dropoff = df[['id', 'dropoff_longitude', 'dropoff_latitude']].copy()\n",
    "locations_dropoff['is_pickup'] = 0\n",
    "\n",
    "locations_pickup.columns = ['id', 'longitude', 'latitude', 'is_pickup']\n",
    "locations_dropoff.columns = ['id', 'longitude', 'latitude', 'is_pickup']\n",
    "\n",
    "locations =  locations_pickup.append(locations_dropoff, ignore_index=True)"
   ]
  },
  {
   "cell_type": "code",
   "execution_count": 4,
   "metadata": {
    "scrolled": true
   },
   "outputs": [
    {
     "data": {
      "application/vnd.jupyter.widget-view+json": {
       "model_id": "2899de8193064198be6f1436fcc71cd2",
       "version_major": 2,
       "version_minor": 0
      },
      "text/plain": [
       "HBox(children=(IntProgress(value=1, bar_style='info', max=1), HTML(value='')))"
      ]
     },
     "metadata": {},
     "output_type": "display_data"
    },
    {
     "name": "stdout",
     "output_type": "stream",
     "text": [
      "\n",
      "Wall time: 5h 7min 47s\n"
     ]
    }
   ],
   "source": [
    "%%time\n",
    "# load Json file containing the borough boundaries\n",
    "with open(borough_outlines_path + '\\Borough Boundaries.json') as f:\n",
    "    js = json.load(f)\n",
    "\n",
    "    \n",
    "polygon_list = list()\n",
    "\n",
    "# Loop through the json data to extract the imporant parts\n",
    "for feature in js['data']:\n",
    "    # In this case the polygons and name of the borough corrispoing to the polygon\n",
    "    polygon = shapely.wkt.loads(feature[8])\n",
    "    polygon_list.append([polygon, feature[10]])\n",
    "setlist = list()    \n",
    "borough_list = list()\n",
    "\n",
    "# Loop over every location coordinate\n",
    "for row in tqdm(locations.itertuples()):\n",
    "    # Create a tempset that will be used later in the notebook\n",
    "    tempset = (row.latitude, row.longitude)\n",
    "    setlist.append(tempset)\n",
    "    \n",
    "    # Get a single geometric point from the longitude and latitude coordinates\n",
    "    point = Point(row.longitude,\n",
    "                  row.latitude)\n",
    "    notfound = True\n",
    "    \n",
    "    # Check each polygon to see if it contains the point\n",
    "    for polygon in polygon_list:\n",
    "        if polygon[0].contains(point):\n",
    "            # Input borough name into a list of boroughs\n",
    "            borough_list.append(polygon[1])\n",
    "            notfound = False\n",
    "            break\n",
    "    \n",
    "    # If it is not found then fill with NaN\n",
    "    if notfound:\n",
    "        borough_list.append(np.nan)\n",
    "        "
   ]
  },
  {
   "cell_type": "code",
   "execution_count": 5,
   "metadata": {},
   "outputs": [
    {
     "name": "stdout",
     "output_type": "stream",
     "text": [
      "Loading formatted geocoded file...\n"
     ]
    }
   ],
   "source": [
    "# Run a function from the reverse geocode library to get detailed information location information\n",
    "geocode_info = rg.search(setlist)"
   ]
  },
  {
   "cell_type": "code",
   "execution_count": 6,
   "metadata": {},
   "outputs": [],
   "source": [
    "# Convert into a dataframe\n",
    "geocodedf = pd.DataFrame(geocode_info)"
   ]
  },
  {
   "cell_type": "code",
   "execution_count": 7,
   "metadata": {},
   "outputs": [],
   "source": [
    "# Combine with the locations dataframe, this will enable remapping of the IDs later\n",
    "geocode_df = pd.concat([locations, geocodedf], axis=1, sort=False)"
   ]
  },
  {
   "cell_type": "code",
   "execution_count": 8,
   "metadata": {},
   "outputs": [],
   "source": [
    "# Attach the borough list to the new geocode dataframe\n",
    "geocode_df['borough'] = borough_list"
   ]
  },
  {
   "cell_type": "markdown",
   "metadata": {},
   "source": [
    "Just to clarify, the reverse geocoder does also return borough information. However, it relies on centroid clustering which turned out to be extremely inaccurate because of all the straight borough boundries. This is why the polygon method was used instead."
   ]
  },
  {
   "cell_type": "markdown",
   "metadata": {},
   "source": [
    "The next few cells rely on coordinate files manually created to segment New York City with more detail. This includes rough outlines around the boroughs to pick up stray data points, outlines around the major airports in New York, John F Kennedy airport, LaGuardia and Newark Liberty airport and more precise segmentation of Manhattan, into lower, midtown and upper Manhattan."
   ]
  },
  {
   "cell_type": "code",
   "execution_count": 9,
   "metadata": {},
   "outputs": [],
   "source": [
    "# Define a function that greates polygons for files that include coordinate data\n",
    "def create_polygons(file):\n",
    "    # Load in the file in question\n",
    "    file_name = file.split('\\\\')[-1][:-4]\n",
    "    temp_load = pd.read_csv(file, delimiter = ';')\n",
    "    \n",
    "    # Create a list of geometry points from the coordinates\n",
    "    pointlist = list()\n",
    "    for row in temp_load.itertuples():\n",
    "        pointlist.append(geometry.Point(row.longitude, row.latitude))\n",
    "    \n",
    "    # Combine the points into a polygon\n",
    "    polygon = geometry.Polygon([[p.x, p.y] for p in pointlist])\n",
    "    \n",
    "    return [polygon, file_name]"
   ]
  },
  {
   "cell_type": "code",
   "execution_count": 10,
   "metadata": {},
   "outputs": [],
   "source": [
    "# Run the create_polygons function for the rough outlines\n",
    "rough_outlines_polygon_list = list()\n",
    "for file in rough_outlines_files:\n",
    "    rough_outlines_polygon_list.append(create_polygons(file))\n",
    "\n",
    "# Run the create_polygons function for the airport outlines\n",
    "airport_polygon_list = list()\n",
    "for file in airport_files:\n",
    "    airport_polygon_list.append(create_polygons(file))\n",
    "\n",
    "# Run the create_polygons function for the manhattan outlines\n",
    "manhattan_polygon_list = list()\n",
    "for file in manhattan_files:\n",
    "    manhattan_polygon_list.append(create_polygons(file))"
   ]
  },
  {
   "cell_type": "code",
   "execution_count": 11,
   "metadata": {},
   "outputs": [],
   "source": [
    "# Define a function that checks if data is included in a list of polygons\n",
    "def find_polygon(data, polygon_list, column_name):\n",
    "    for row in tqdm(data.itertuples()):\n",
    "        # Get a single geometric point from the longitude and latitude coordinates\n",
    "        point = Point(row.longitude,\n",
    "                      row.latitude)\n",
    "        # Check each polygon to see if it contains the point\n",
    "        for polygon in polygon_list:\n",
    "            if polygon[0].contains(point):\n",
    "                geocode_df.at[row.Index, column_name] = polygon[1]\n",
    "                break"
   ]
  },
  {
   "cell_type": "markdown",
   "metadata": {},
   "source": [
    "The original borough outlines were very precise, this resulted in locations such as bridges and docks to be missed by the original classification. So to fix this, the rough outlines will identify where the NaN values might belong."
   ]
  },
  {
   "cell_type": "code",
   "execution_count": 12,
   "metadata": {},
   "outputs": [
    {
     "data": {
      "application/vnd.jupyter.widget-view+json": {
       "model_id": "aedc29d6232f47c3b010adc174538bfd",
       "version_major": 2,
       "version_minor": 0
      },
      "text/plain": [
       "HBox(children=(IntProgress(value=1, bar_style='info', max=1), HTML(value='')))"
      ]
     },
     "metadata": {},
     "output_type": "display_data"
    },
    {
     "name": "stdout",
     "output_type": "stream",
     "text": [
      "\n"
     ]
    }
   ],
   "source": [
    "# Get all rows where the borough was not found and filled as Nan\n",
    "nan_df = geocode_df[geocode_df['borough'].isna()]\n",
    "\n",
    "# Run the find polygon function based on the rough outlines\n",
    "find_polygon(nan_df, rough_outlines_polygon_list, 'borough')"
   ]
  },
  {
   "cell_type": "code",
   "execution_count": 13,
   "metadata": {},
   "outputs": [
    {
     "data": {
      "application/vnd.jupyter.widget-view+json": {
       "model_id": "01ada856cab241f7b8f352a6e123d0ea",
       "version_major": 2,
       "version_minor": 0
      },
      "text/plain": [
       "HBox(children=(IntProgress(value=1, bar_style='info', max=1), HTML(value='')))"
      ]
     },
     "metadata": {},
     "output_type": "display_data"
    },
    {
     "name": "stdout",
     "output_type": "stream",
     "text": [
      "\n"
     ]
    }
   ],
   "source": [
    "# Initalise a new column where airport information will be located\n",
    "geocode_df['airport'] = 'No Airport'\n",
    "\n",
    "# To create a smaller subset to loop over, all manhattan trips were removed. \n",
    "# This is reasonable because no airports are in Manhattan\n",
    "poss_airport_df = geocode_df[geocode_df['borough'] != 'Manhattan']\n",
    "\n",
    "# Find if data points are located near any major airports\n",
    "find_polygon(poss_airport_df, airport_polygon_list, 'airport')"
   ]
  },
  {
   "cell_type": "code",
   "execution_count": 14,
   "metadata": {},
   "outputs": [
    {
     "data": {
      "application/vnd.jupyter.widget-view+json": {
       "model_id": "92ca29838f6b466ba92328a6d27a96c4",
       "version_major": 2,
       "version_minor": 0
      },
      "text/plain": [
       "HBox(children=(IntProgress(value=1, bar_style='info', max=1), HTML(value='')))"
      ]
     },
     "metadata": {},
     "output_type": "display_data"
    },
    {
     "name": "stdout",
     "output_type": "stream",
     "text": [
      "\n"
     ]
    }
   ],
   "source": [
    "# Create a new column which will be filled with more detailed segmentation\n",
    "geocode_df['detailed_borough'] = geocode_df['borough']\n",
    "\n",
    "# Filter only on Manhattan data points to use in this run\n",
    "manhattan_df = geocode_df[geocode_df['borough'] == 'Manhattan']\n",
    "\n",
    "# Find which segment of Manhattan, lower, mid and upper, the data point belongs to\n",
    "find_polygon(manhattan_df, manhattan_polygon_list, 'detailed_borough')"
   ]
  },
  {
   "cell_type": "code",
   "execution_count": 15,
   "metadata": {},
   "outputs": [
    {
     "data": {
      "text/html": [
       "<div>\n",
       "<style scoped>\n",
       "    .dataframe tbody tr th:only-of-type {\n",
       "        vertical-align: middle;\n",
       "    }\n",
       "\n",
       "    .dataframe tbody tr th {\n",
       "        vertical-align: top;\n",
       "    }\n",
       "\n",
       "    .dataframe thead th {\n",
       "        text-align: right;\n",
       "    }\n",
       "</style>\n",
       "<table border=\"1\" class=\"dataframe\">\n",
       "  <thead>\n",
       "    <tr style=\"text-align: right;\">\n",
       "      <th></th>\n",
       "      <th>id</th>\n",
       "      <th>longitude</th>\n",
       "      <th>latitude</th>\n",
       "      <th>is_pickup</th>\n",
       "      <th>lat</th>\n",
       "      <th>lon</th>\n",
       "      <th>name</th>\n",
       "      <th>admin1</th>\n",
       "      <th>admin2</th>\n",
       "      <th>cc</th>\n",
       "      <th>borough</th>\n",
       "      <th>airport</th>\n",
       "      <th>detailed_borough</th>\n",
       "    </tr>\n",
       "  </thead>\n",
       "  <tbody>\n",
       "    <tr>\n",
       "      <td>0</td>\n",
       "      <td>id2875421</td>\n",
       "      <td>-73.982155</td>\n",
       "      <td>40.767937</td>\n",
       "      <td>1</td>\n",
       "      <td>40.78343</td>\n",
       "      <td>-73.96625</td>\n",
       "      <td>Manhattan</td>\n",
       "      <td>New York</td>\n",
       "      <td>New York County</td>\n",
       "      <td>US</td>\n",
       "      <td>Manhattan</td>\n",
       "      <td>No Airport</td>\n",
       "      <td>Midtown Manhattan</td>\n",
       "    </tr>\n",
       "    <tr>\n",
       "      <td>1</td>\n",
       "      <td>id2377394</td>\n",
       "      <td>-73.980415</td>\n",
       "      <td>40.738564</td>\n",
       "      <td>1</td>\n",
       "      <td>40.74482</td>\n",
       "      <td>-73.94875</td>\n",
       "      <td>Long Island City</td>\n",
       "      <td>New York</td>\n",
       "      <td>Queens County</td>\n",
       "      <td>US</td>\n",
       "      <td>Manhattan</td>\n",
       "      <td>No Airport</td>\n",
       "      <td>Midtown Manhattan</td>\n",
       "    </tr>\n",
       "    <tr>\n",
       "      <td>2</td>\n",
       "      <td>id3858529</td>\n",
       "      <td>-73.979027</td>\n",
       "      <td>40.763939</td>\n",
       "      <td>1</td>\n",
       "      <td>40.78343</td>\n",
       "      <td>-73.96625</td>\n",
       "      <td>Manhattan</td>\n",
       "      <td>New York</td>\n",
       "      <td>New York County</td>\n",
       "      <td>US</td>\n",
       "      <td>Manhattan</td>\n",
       "      <td>No Airport</td>\n",
       "      <td>Midtown Manhattan</td>\n",
       "    </tr>\n",
       "    <tr>\n",
       "      <td>3</td>\n",
       "      <td>id3504673</td>\n",
       "      <td>-74.010040</td>\n",
       "      <td>40.719971</td>\n",
       "      <td>1</td>\n",
       "      <td>40.71427</td>\n",
       "      <td>-74.00597</td>\n",
       "      <td>New York City</td>\n",
       "      <td>New York</td>\n",
       "      <td></td>\n",
       "      <td>US</td>\n",
       "      <td>Manhattan</td>\n",
       "      <td>No Airport</td>\n",
       "      <td>Lower Manhattan</td>\n",
       "    </tr>\n",
       "    <tr>\n",
       "      <td>4</td>\n",
       "      <td>id2181028</td>\n",
       "      <td>-73.973053</td>\n",
       "      <td>40.793209</td>\n",
       "      <td>1</td>\n",
       "      <td>40.78343</td>\n",
       "      <td>-73.96625</td>\n",
       "      <td>Manhattan</td>\n",
       "      <td>New York</td>\n",
       "      <td>New York County</td>\n",
       "      <td>US</td>\n",
       "      <td>Manhattan</td>\n",
       "      <td>No Airport</td>\n",
       "      <td>Upper Manhattan</td>\n",
       "    </tr>\n",
       "  </tbody>\n",
       "</table>\n",
       "</div>"
      ],
      "text/plain": [
       "          id  longitude   latitude  is_pickup       lat        lon  \\\n",
       "0  id2875421 -73.982155  40.767937          1  40.78343  -73.96625   \n",
       "1  id2377394 -73.980415  40.738564          1  40.74482  -73.94875   \n",
       "2  id3858529 -73.979027  40.763939          1  40.78343  -73.96625   \n",
       "3  id3504673 -74.010040  40.719971          1  40.71427  -74.00597   \n",
       "4  id2181028 -73.973053  40.793209          1  40.78343  -73.96625   \n",
       "\n",
       "               name    admin1           admin2  cc    borough     airport  \\\n",
       "0         Manhattan  New York  New York County  US  Manhattan  No Airport   \n",
       "1  Long Island City  New York    Queens County  US  Manhattan  No Airport   \n",
       "2         Manhattan  New York  New York County  US  Manhattan  No Airport   \n",
       "3     New York City  New York                   US  Manhattan  No Airport   \n",
       "4         Manhattan  New York  New York County  US  Manhattan  No Airport   \n",
       "\n",
       "    detailed_borough  \n",
       "0  Midtown Manhattan  \n",
       "1  Midtown Manhattan  \n",
       "2  Midtown Manhattan  \n",
       "3    Lower Manhattan  \n",
       "4    Upper Manhattan  "
      ]
     },
     "execution_count": 15,
     "metadata": {},
     "output_type": "execute_result"
    }
   ],
   "source": [
    "geocode_df.head()"
   ]
  },
  {
   "cell_type": "code",
   "execution_count": 16,
   "metadata": {},
   "outputs": [],
   "source": [
    "# Fill NaN values in the borough information to indicate that they are located well outside New York City\n",
    "geocode_df['detailed_borough'].fillna('Well Outside NYC', inplace=True)"
   ]
  },
  {
   "cell_type": "code",
   "execution_count": 17,
   "metadata": {},
   "outputs": [],
   "source": [
    "# Replace 'No Airport' string with NaN \n",
    "geocode_df = geocode_df.replace('No Airport', np.nan, regex=True)"
   ]
  },
  {
   "cell_type": "code",
   "execution_count": 18,
   "metadata": {},
   "outputs": [],
   "source": [
    "# Save the newly created dataframe\n",
    "geocode_df.to_csv(save_path + 'geocode_info_mapping_with_pol.csv', index = False)"
   ]
  }
 ],
 "metadata": {
  "kernelspec": {
   "display_name": "Python 3",
   "language": "python",
   "name": "python3"
  },
  "language_info": {
   "codemirror_mode": {
    "name": "ipython",
    "version": 3
   },
   "file_extension": ".py",
   "mimetype": "text/x-python",
   "name": "python",
   "nbconvert_exporter": "python",
   "pygments_lexer": "ipython3",
   "version": "3.6.5"
  }
 },
 "nbformat": 4,
 "nbformat_minor": 2
}
